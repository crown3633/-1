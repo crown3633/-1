{
  "nbformat": 4,
  "nbformat_minor": 0,
  "metadata": {
    "colab": {
      "name": "열유체공학실험-2014010073-HW04",
      "provenance": [],
      "include_colab_link": true
    },
    "kernelspec": {
      "name": "python3",
      "display_name": "Python 3"
    }
  },
  "cells": [
    {
      "cell_type": "markdown",
      "metadata": {
        "id": "view-in-github",
        "colab_type": "text"
      },
      "source": [
        "<a href=\"https://colab.research.google.com/github/crown3633/TaeHun/blob/master/%EC%97%B4%EC%9C%A0%EC%B2%B4%EA%B3%B5%ED%95%99%EC%8B%A4%ED%97%98_2014010073_HW04.ipynb\" target=\"_parent\"><img src=\"https://colab.research.google.com/assets/colab-badge.svg\" alt=\"Open In Colab\"/></a>"
      ]
    },
    {
      "cell_type": "code",
      "metadata": {
        "id": "JOHJrSd6aRmk",
        "colab_type": "code",
        "colab": {
          "base_uri": "https://localhost:8080/",
          "height": 55
        },
        "outputId": "d27bc4b3-b7cf-4dc8-d6d5-b4c6f6000397"
      },
      "source": [
        "import numpy as np\n",
        "\n",
        "def multiply1(X):\n",
        "  for i in range(1,10):\n",
        "    X[i-1]*=4\n",
        "\n",
        "%timeit multiply1(np.arange(1,10))"
      ],
      "execution_count": 14,
      "outputs": [
        {
          "output_type": "stream",
          "text": [
            "The slowest run took 29.38 times longer than the fastest. This could mean that an intermediate result is being cached.\n",
            "100000 loops, best of 3: 3.91 µs per loop\n"
          ],
          "name": "stdout"
        }
      ]
    },
    {
      "cell_type": "code",
      "metadata": {
        "id": "aqHPcN8DcntO",
        "colab_type": "code",
        "colab": {
          "base_uri": "https://localhost:8080/",
          "height": 55
        },
        "outputId": "cc2d85dc-94a9-4ac4-a664-180497c3a3a4"
      },
      "source": [
        "import numpy as np\n",
        "\n",
        "def multiply2(X):\n",
        "  return 4*X\n",
        "%timeit multiply2(np.arange(1,10))"
      ],
      "execution_count": 16,
      "outputs": [
        {
          "output_type": "stream",
          "text": [
            "The slowest run took 182.05 times longer than the fastest. This could mean that an intermediate result is being cached.\n",
            "1000000 loops, best of 3: 1.38 µs per loop\n"
          ],
          "name": "stdout"
        }
      ]
    },
    {
      "cell_type": "code",
      "metadata": {
        "id": "xIdq6nd7aI0Z",
        "colab_type": "code",
        "colab": {
          "base_uri": "https://localhost:8080/",
          "height": 55
        },
        "outputId": "dd289257-09c6-488a-a5df-f258721ae6d7"
      },
      "source": [
        "import numpy as np\n",
        "import numba\n",
        "\n",
        "def multiply3(X):\n",
        "  for i in range(1,10):\n",
        "    X[i-1]*=4\n",
        "\n",
        "multiply_jit=numba.jit(\"void(i1)\")(multiply3)\n",
        "\n",
        "%timeit multiply_jit(np.arange(1,10))"
      ],
      "execution_count": 17,
      "outputs": [
        {
          "output_type": "stream",
          "text": [
            "The slowest run took 2677.96 times longer than the fastest. This could mean that an intermediate result is being cached.\n",
            "100000 loops, best of 3: 16.1 µs per loop\n"
          ],
          "name": "stdout"
        }
      ]
    },
    {
      "cell_type": "code",
      "metadata": {
        "id": "Lom4kcRHoRW0",
        "colab_type": "code",
        "colab": {
          "base_uri": "https://localhost:8080/",
          "height": 55
        },
        "outputId": "eeb1caf7-00c3-4b3d-dfd5-a4f5ffdd9934"
      },
      "source": [
        "!find / -iname 'libdevice'\n",
        "!find / -iname 'libnvvm.so'"
      ],
      "execution_count": 53,
      "outputs": [
        {
          "output_type": "stream",
          "text": [
            "/usr/local/cuda-10.0/nvvm/libdevice\n",
            "/usr/local/cuda-10.0/nvvm/lib64/libnvvm.so\n"
          ],
          "name": "stdout"
        }
      ]
    },
    {
      "cell_type": "code",
      "metadata": {
        "id": "p4jB8MxQoiuQ",
        "colab_type": "code",
        "colab": {}
      },
      "source": [
        "import os\n",
        "os.environ['NUMBAPRO_LIBDEVICE']=\"/usr/local/cuda-10.0/nvvm/libdevice\"\n",
        "os.environ['NUMBAPRO_NVVM']=\"/usr/local/cuda-10.0/nvvm/lib64/libnvvm.so\""
      ],
      "execution_count": 0,
      "outputs": []
    },
    {
      "cell_type": "code",
      "metadata": {
        "id": "KmxDUG7PQohX",
        "colab_type": "code",
        "outputId": "d049fc89-437d-48aa-fe58-7df43bfd7327",
        "colab": {
          "base_uri": "https://localhost:8080/",
          "height": 75
        }
      },
      "source": [
        "import numpy as np\n",
        "from numba import vectorize\n",
        "\n",
        "a = np.array([1,2,3,4,5,6,7,8,9])\n",
        "b = np.array([4,4,4,4,4,4,4,4,4])\n",
        "\n",
        "\n",
        "@vectorize(['int64(int64, int64)'], target='cuda')\n",
        "def multiply4(x, y):\n",
        "    return x * y\n",
        "  \n",
        "%timeit multiply4(a, b)"
      ],
      "execution_count": 0,
      "outputs": [
        {
          "output_type": "stream",
          "text": [
            "The slowest run took 191.06 times longer than the fastest. This could mean that an intermediate result is being cached.\n",
            "1000 loops, best of 3: 688 µs per loop\n"
          ],
          "name": "stdout"
        }
      ]
    }
  ]
}