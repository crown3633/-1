{
  "nbformat": 4,
  "nbformat_minor": 0,
  "metadata": {
    "colab": {
      "name": "열유체공학실험-2016201278-HW03.ipynb",
      "provenance": [],
      "include_colab_link": true
    },
    "kernelspec": {
      "name": "python3",
      "display_name": "Python 3"
    }
  },
  "cells": [
    {
      "cell_type": "markdown",
      "metadata": {
        "id": "view-in-github",
        "colab_type": "text"
      },
      "source": [
        "<a href=\"https://colab.research.google.com/github/crown3633/TaeHun/blob/master/%EC%97%B4%EC%9C%A0%EC%B2%B4%EA%B3%B5%ED%95%99%EC%8B%A4%ED%97%98_2016201278_HW03.ipynb\" target=\"_parent\"><img src=\"https://colab.research.google.com/assets/colab-badge.svg\" alt=\"Open In Colab\"/></a>"
      ]
    },
    {
      "cell_type": "code",
      "metadata": {
        "id": "wB1ZCbGQvYjF",
        "colab_type": "code",
        "colab": {
          "base_uri": "https://localhost:8080/",
          "height": 204
        },
        "outputId": "c8140355-102d-4682-ad69-34eee7f2d008"
      },
      "source": [
        "import numpy as np\n",
        "y=int(input(\"구구단 몇단을 보시겠습니까?\"))\n",
        "A=np.full((9,1),y)\n",
        "B=(np.arange(1,10)).reshape((9,1))\n",
        "print(np.hstack([A,B,B*y]))"
      ],
      "execution_count": 2,
      "outputs": [
        {
          "output_type": "stream",
          "text": [
            "구구단 몇단을 보시겠습니까?5\n",
            "[[ 5  1  5]\n",
            " [ 5  2 10]\n",
            " [ 5  3 15]\n",
            " [ 5  4 20]\n",
            " [ 5  5 25]\n",
            " [ 5  6 30]\n",
            " [ 5  7 35]\n",
            " [ 5  8 40]\n",
            " [ 5  9 45]]\n"
          ],
          "name": "stdout"
        }
      ]
    }
  ]
}